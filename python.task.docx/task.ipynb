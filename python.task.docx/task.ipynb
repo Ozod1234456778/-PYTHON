class Player:
    def __init__(self, name):
        self.name = name
        self.points = 0
        self.form = 'Normal'

    def update_form(self, state):
        self.form = state

    def __str__(self):
        return f"{self.name} ({self.points} pts, Form: {self.form})"


class Referee:
    def __init__(self, name):
        self.name = name

    def decide_winner(self, player1, player2):
        # Very simple logic (can be improved)
        return player1 if player1.form == 'Hot' else player2


class Match:
    def __init__(self, player1, player2, referee):
        self.player1 = player1
        self.player2 = player2
        self.referee = referee

    def play(self):
        winner = self.referee.decide_winner(self.player1, self.player2)
        loser = self.player1 if winner == self.player2 else self.player2
        winner.points += 3
        print(f"{winner.name} won against {loser.name}")
        return winner.name, loser.name
 2. Strategy Pattern bilan Turnirlar: RoundRobin, Knockout

class TournamentStrategy:
    def play(self, players, referee):
        raise NotImplementedError


class RoundRobin(TournamentStrategy):
    def play(self, players, referee):
        matches = []
        for i in range(len(players)):
            for j in range(i+1, len(players)):
                match = Match(players[i], players[j], referee)
                matches.append(match)
        return matches


class Knockout(TournamentStrategy):
    def play(self, players, referee):
        from random import shuffle
        shuffle(players)
        matches = []
        for i in range(0, len(players), 2):
            match = Match(players[i], players[i+1], referee)
            matches.append(match)
        return matches
 3. Tournament klassi: Jadval yangilash, State bo‘yicha o‘zgarish

import csv
import json

class Tournament:
    def __init__(self, name, players, strategy):
        self.name = name
        self.players = players
        self.strategy = strategy
        self.referee = Referee("Ref1")
        self.matches = []
        self.match_results = []

    def start(self):
        self.matches = self.strategy.play(self.players, self.referee)
        for match in self.matches:
            winner, loser = match.play()
            self.match_results.append((winner, loser))
            self.log_match(winner, loser)

    def log_match(self, winner, loser):
        with open("match_log.csv", "a", newline='') as f:
            writer = csv.writer(f)
            writer.writerow([winner, "defeated", loser])

    def export_standings(self):
        standings = sorted(self.players, key=lambda p: p.points, reverse=True)
        data = [{ "name": p.name, "points": p.points, "form": p.form } for p in standings]
        with open("standings.json", "w") as f:
            json.dump(data, f, indent=2)

    def generate_awards(self):
        best = max(self.players, key=lambda p: p.points)
        print(f"🏆 Best Player: {best.name} ({best.points} pts)")
 4. CLI: Admin interfeysi (oddiy terminal versiyasi)

def cli():
    p1 = Player("Alice")
    p2 = Player("Bob")
    p3 = Player("Charlie")
    p4 = Player("David")


    p1.update_form("Hot")
    p2.update_form("Cold")
    p3.update_form("Normal")
    p4.update_form("Hot")

    players = [p1, p2, p3, p4]

    print("1. Round Robin\n2. Knockout")
    choice = input("Select tournament type: ")

    if choice == "1":
        strategy = RoundRobin()
    else:
        strategy = Knockout()

    tournament = Tournament("Championship", players, strategy)
    tournament.start()
    tournament.export_standings()
    tournament.generate_awards()

cli()
